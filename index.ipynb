{
 "cells": [
  {
   "cell_type": "code",
   "execution_count": null,
   "metadata": {},
   "outputs": [],
   "source": [
    "#hide\n",
    "from pySplitting.core import *\n",
    "from sympy import *"
   ]
  },
  {
   "cell_type": "markdown",
   "metadata": {},
   "source": [
    "# pySplitting\n",
    "\n",
    "> A project to have python code that generates the order conditions for exponential splitting methods with the equations of M. Thalhammer given in the 2008 paper \"High-Order Exponential Operator Splitting Methods for Time-Dependent Schrödinger Equations\" available at ´https://epubs.siam.org/doi/abs/10.1137/060674636?mobileUi=0´\n"
   ]
  },
  {
   "cell_type": "markdown",
   "metadata": {},
   "source": [
    "## How to use"
   ]
  },
  {
   "cell_type": "markdown",
   "metadata": {},
   "source": [
    "This is a python project that generates the equations for the order conditions such that exponential splitting methods of the given order or with the desired features can be designed. To that end we utilize sympy to get symbolic expressions that can be further processed."
   ]
  },
  {
   "cell_type": "markdown",
   "metadata": {},
   "source": [
    "First we will derive the equations for the familiar leapfrog/Strang splitting. This is a method of order p=2 and uses the indeterminates ((t0,t1),(v0,v1))=((1/2,1/2).(1,0)). Hence we have to set up sympy first to give us the respective symbols:"
   ]
  },
  {
   "cell_type": "code",
   "execution_count": null,
   "metadata": {},
   "outputs": [],
   "source": [
    "from sympy.matrices.dense import symarray\n",
    "from sympy import *\n",
    "tvec=[*symarray('t',2)]\n",
    "vvec=[*symarray('v',2)]"
   ]
  },
  {
   "cell_type": "markdown",
   "metadata": {},
   "source": [
    "Next we build the equations. To that end we use the function CreateCondition().\n",
    "The first argument is the order, the second and third argument are the indeterminates for the resulting polynomials."
   ]
  },
  {
   "cell_type": "code",
   "execution_count": null,
   "metadata": {},
   "outputs": [
    {
     "data": {
      "text/plain": [
       "[Eq(t_0 + t_1, 1), Eq(-v_0 - v_1 + 1, 0), Eq(-t_0*v_0 - v_1 + 1/2, 0)]"
      ]
     },
     "metadata": {},
     "output_type": "display_data"
    }
   ],
   "source": [
    "strangconds=CreateConditions(2,tvec,vvec)\n",
    "display(strangconds)"
   ]
  },
  {
   "cell_type": "markdown",
   "metadata": {},
   "source": [
    "Now we check wether the solutions fulfill these equations:"
   ]
  },
  {
   "cell_type": "code",
   "execution_count": null,
   "metadata": {},
   "outputs": [
    {
     "data": {
      "text/plain": [
       "[True, True, True]"
      ]
     },
     "execution_count": null,
     "metadata": {},
     "output_type": "execute_result"
    }
   ],
   "source": [
    "[it.subs([('t_0',sympify(1)/2),('t_1',sympify(1)/2),('v_0',1),('v_1',0)]) for it in strangconds]"
   ]
  },
  {
   "cell_type": "markdown",
   "metadata": {},
   "source": [
    "It works! Now we move on to check the improved Leapfrog by McLachlan(McLachlan 1995, https://www.massey.ac.nz/~rmclachl/sisc95.pdf), and utilize that we can impose already some structure(symmetry and the consistency equations) on the indeterminates to get some simplifications:"
   ]
  },
  {
   "cell_type": "code",
   "execution_count": null,
   "metadata": {},
   "outputs": [
    {
     "name": "stdout",
     "output_type": "stream",
     "text": [
      "Indeterminates:  [t_0, 1 - 2*t_0, t_0] [v_0, v_0, 0]\n",
      "[True, Eq(1 - 2*v_0, 0), Eq(-t_0*v_0 - v_0*(1 - t_0) + 1/2, 0)]\n"
     ]
    }
   ],
   "source": [
    "tvec=[*symarray('t',3)]\n",
    "tvec[2]=tvec[0]\n",
    "tvec[1]=1-2*tvec[0]\n",
    "vvec=[*symarray('v',3)]\n",
    "vvec[2]=0\n",
    "vvec[1]=vvec[0]\n",
    "print(\"Indeterminates: \",tvec,vvec)\n",
    "McLachlanconds=CreateConditions(2,tvec,vvec)\n",
    "print(McLachlanconds)"
   ]
  },
  {
   "cell_type": "markdown",
   "metadata": {},
   "source": [
    "We check that the given numbers(v_0=1/2,t_0=0.1931) satisfy the equation:"
   ]
  },
  {
   "cell_type": "code",
   "execution_count": null,
   "metadata": {},
   "outputs": [
    {
     "data": {
      "text/plain": [
       "[True, True, True]"
      ]
     },
     "execution_count": null,
     "metadata": {},
     "output_type": "execute_result"
    }
   ],
   "source": [
    "[it.subs([('t_0',0.19318332),('v_0',sympify(1)/2)]) for it in McLachlanconds]"
   ]
  },
  {
   "cell_type": "markdown",
   "metadata": {},
   "source": [
    "True! Now we move on to two more fourth order esamples from the literature:\n",
    "First the fourth order method from McLachlan's 1995 paper:"
   ]
  },
  {
   "cell_type": "code",
   "execution_count": null,
   "metadata": {},
   "outputs": [
    {
     "name": "stdout",
     "output_type": "stream",
     "text": [
      "Indeterminates:  [t_0, t_1, -2*t_0 - 2*t_1 + 1, t_1, t_0] [v_0, 1/2 - v_0, 1/2 - v_0, v_0, 0]\n",
      "[True, True, Eq(-t_0*v_0 - v_0*(1 - t_0) - (1/2 - v_0)*(t_0 + t_1) - (1/2 - v_0)*(-t_0 - t_1 + 1) + 1/2, 0), Eq(-t_0**2*v_0 - v_0*(1 - t_0)**2 - (1/2 - v_0)*(t_0 + t_1)**2 - (1/2 - v_0)*(-t_0 - t_1 + 1)**2 + 1/3, 0), Eq(-t_0**3*v_0 - v_0*(1 - t_0)**3 - (1/2 - v_0)*(t_0 + t_1)**3 - (1/2 - v_0)*(-t_0 - t_1 + 1)**3 + 1/4, 0), Eq(-3*t_0*v_0**2/2 - 2*t_0*v_0*(1/2 - v_0) - v_0**2*(1 - t_0)/2 - v_0*(1/2 - v_0)*(t_0 + t_1) - v_0*(1/2 - v_0)*(-t_0 - t_1 + 1) - 3*(1/2 - v_0)**2*(t_0 + t_1)/2 - (1/2 - v_0)**2*(-t_0 - t_1 + 1)/2 + 1/6, 0), Eq(-3*t_0**2*v_0**2/2 - 2*t_0**2*v_0*(1/2 - v_0) - v_0**2*(1 - t_0)**2/2 - v_0*(1/2 - v_0)*(t_0 + t_1)**2 - v_0*(1/2 - v_0)*(-t_0 - t_1 + 1)**2 - 3*(1/2 - v_0)**2*(t_0 + t_1)**2/2 - (1/2 - v_0)**2*(-t_0 - t_1 + 1)**2/2 + 1/12, 0), Eq(-7*t_0*v_0**3/6 - 3*t_0*v_0**2*(1/2 - v_0) - 2*t_0*v_0*(1/2 - v_0)**2 - v_0**3*(1 - t_0)/6 - v_0**2*(1/2 - v_0)*(t_0 + t_1)/2 - v_0**2*(1/2 - v_0)*(-t_0 - t_1 + 1)/2 - 3*v_0*(1/2 - v_0)**2*(t_0 + t_1)/2 - v_0*(1/2 - v_0)**2*(-t_0 - t_1 + 1)/2 - 7*(1/2 - v_0)**3*(t_0 + t_1)/6 - (1/2 - v_0)**3*(-t_0 - t_1 + 1)/6 + 1/24, 0)]\n"
     ]
    },
    {
     "data": {
      "text/plain": [
       "[True, True, True, True, True, True, True, True]"
      ]
     },
     "execution_count": null,
     "metadata": {},
     "output_type": "execute_result"
    }
   ],
   "source": [
    "tvec=[*symarray('t',5)]\n",
    "tvec[4]=tvec[0]\n",
    "tvec[3]=tvec[1]\n",
    "tvec[2]=1-2*(tvec[0]+tvec[1])\n",
    "vvec=[*symarray('v',5)]\n",
    "vvec[4]=0\n",
    "vvec[3]=vvec[0]\n",
    "vvec[1]=(1-2*vvec[0])/2\n",
    "vvec[2]=vvec[1]\n",
    "print(\"Indeterminates: \",tvec,vvec)\n",
    "McLachlanconds4=CreateConditions(4,tvec,vvec)\n",
    "print(McLachlanconds4)\n",
    "[it.subs([('v_0',S(6)/S(11)),('t_0',(642+Pow(471,S(1)/2))/S(3924)),('t_1',S(121)/S(3924)*(12-Pow(471,S(1)/2)))]) for it in McLachlanconds4]"
   ]
  },
  {
   "cell_type": "markdown",
   "metadata": {},
   "source": [
    "Next we check the popular S_6 4 method by from Blanes2002(\"Practical symplectic partitioned Runge–Kutta and Runge–Kutta–Nyström methods\")\n",
    "Since it's a symmetric method it is sufficient to work with the third order equations."
   ]
  },
  {
   "cell_type": "code",
   "execution_count": null,
   "metadata": {},
   "outputs": [
    {
     "name": "stdout",
     "output_type": "stream",
     "text": [
      "Indeterminates:  [t_0, t_1, t_2, -2*t_0 - 2*t_1 - 2*t_2 + 1, t_2, t_1, t_0] [v_0, v_1, -v_0 - v_1 + 1/2, -v_0 - v_1 + 1/2, v_1, v_0, 0]\n"
     ]
    },
    {
     "data": {
      "text/plain": [
       "[True,\n",
       " True,\n",
       " Eq(-t_0*v_0 - v_0*(1 - t_0) - v_1*(t_0 + t_1) - v_1*(-t_0 - t_1 + 1) - (t_0 + t_1 + t_2)*(-v_0 - v_1 + 1/2) - (-v_0 - v_1 + 1/2)*(-t_0 - t_1 - t_2 + 1) + 1/2, 0),\n",
       " Eq(-t_0**2*v_0 - v_0*(1 - t_0)**2 - v_1*(t_0 + t_1)**2 - v_1*(-t_0 - t_1 + 1)**2 - (t_0 + t_1 + t_2)**2*(-v_0 - v_1 + 1/2) - (-v_0 - v_1 + 1/2)*(-t_0 - t_1 - t_2 + 1)**2 + 1/3, 0),\n",
       " Eq(-3*t_0*v_0**2/2 - 2*t_0*v_0*v_1 - 2*t_0*v_0*(-v_0 - v_1 + 1/2) - v_0**2*(1 - t_0)/2 - v_0*v_1*(t_0 + t_1) - v_0*v_1*(-t_0 - t_1 + 1) - v_0*(t_0 + t_1 + t_2)*(-v_0 - v_1 + 1/2) - v_0*(-v_0 - v_1 + 1/2)*(-t_0 - t_1 - t_2 + 1) - 3*v_1**2*(t_0 + t_1)/2 - v_1**2*(-t_0 - t_1 + 1)/2 - 2*v_1*(t_0 + t_1)*(-v_0 - v_1 + 1/2) - v_1*(t_0 + t_1 + t_2)*(-v_0 - v_1 + 1/2) - v_1*(-v_0 - v_1 + 1/2)*(-t_0 - t_1 - t_2 + 1) - 3*(t_0 + t_1 + t_2)*(-v_0 - v_1 + 1/2)**2/2 - (-v_0 - v_1 + 1/2)**2*(-t_0 - t_1 - t_2 + 1)/2 + 1/6, 0)]"
      ]
     },
     "metadata": {},
     "output_type": "display_data"
    }
   ],
   "source": [
    "tvec=[*symarray('t',7)]\n",
    "tvec[6]=tvec[0]\n",
    "tvec[5]=tvec[1]\n",
    "tvec[4]=tvec[2]\n",
    "tvec[3]=1-2*(tvec[0]+tvec[1]+tvec[2])\n",
    "vvec=[*symarray('v',7)]\n",
    "vvec[2]=(1-2*(vvec[0]+vvec[1]))/2\n",
    "vvec[6]=0\n",
    "vvec[5]=vvec[0]\n",
    "vvec[4]=vvec[1]\n",
    "vvec[3]=vvec[2]\n",
    "print(\"Indeterminates: \",tvec,vvec)\n",
    "S64conds=CreateConditions(3,tvec,vvec)\n",
    "display(S64conds)"
   ]
  },
  {
   "cell_type": "markdown",
   "metadata": {},
   "source": [
    "And now let's see whether it works"
   ]
  },
  {
   "cell_type": "code",
   "execution_count": null,
   "metadata": {},
   "outputs": [
    {
     "name": "stdout",
     "output_type": "stream",
     "text": [
      "[True, True, True, False, False]\n"
     ]
    }
   ],
   "source": [
    "res=[it.simplify().subs([\n",
    "    ('t_0',S(0.0792036964311956)),\n",
    "          ('t_1',S(0.35317290604977410)),\n",
    "          ('t_2',S(-0.0420650803577195)),\n",
    "          ('v_0',S(0.2095151066133620)),\n",
    "          ('v_1',S(-0.143851773179818))\n",
    "         ]) for it in S64conds]\n",
    "print(res)"
   ]
  },
  {
   "cell_type": "code",
   "execution_count": null,
   "metadata": {},
   "outputs": [
    {
     "name": "stdout",
     "output_type": "stream",
     "text": [
      "[True, True, Eq(-t_0*v_0 - v_0*(1 - t_0) - v_1*(t_0 + t_1) - v_1*(-t_0 - t_1 + 1) - (t_0 + t_1 + t_2)*(-v_0 - v_1 + 1/2) - (-v_0 - v_1 + 1/2)*(-t_0 - t_1 - t_2 + 1) + 1/2, 0), Eq(-t_0**2*v_0 - v_0*(1 - t_0)**2 - v_1*(t_0 + t_1)**2 - v_1*(-t_0 - t_1 + 1)**2 - (t_0 + t_1 + t_2)**2*(-v_0 - v_1 + 1/2) - (-v_0 - v_1 + 1/2)*(-t_0 - t_1 - t_2 + 1)**2 + 1/3, 0), Eq(-3*t_0*v_0**2/2 - 2*t_0*v_0*v_1 - 2*t_0*v_0*(-v_0 - v_1 + 1/2) - v_0**2*(1 - t_0)/2 - v_0*v_1*(t_0 + t_1) - v_0*v_1*(-t_0 - t_1 + 1) - v_0*(t_0 + t_1 + t_2)*(-v_0 - v_1 + 1/2) - v_0*(-v_0 - v_1 + 1/2)*(-t_0 - t_1 - t_2 + 1) - 3*v_1**2*(t_0 + t_1)/2 - v_1**2*(-t_0 - t_1 + 1)/2 - 2*v_1*(t_0 + t_1)*(-v_0 - v_1 + 1/2) - v_1*(t_0 + t_1 + t_2)*(-v_0 - v_1 + 1/2) - v_1*(-v_0 - v_1 + 1/2)*(-t_0 - t_1 - t_2 + 1) - 3*(t_0 + t_1 + t_2)*(-v_0 - v_1 + 1/2)**2/2 - (-v_0 - v_1 + 1/2)**2*(-t_0 - t_1 - t_2 + 1)/2 + 1/6, 0)]\n"
     ]
    }
   ],
   "source": [
    "print(S64conds)"
   ]
  },
  {
   "cell_type": "markdown",
   "metadata": {},
   "source": [
    "## Complex Hermitian Methods where one set of coefficients is real"
   ]
  },
  {
   "cell_type": "markdown",
   "metadata": {},
   "source": [
    "In this section we check our new hermitian methods where one set of coefficients is real."
   ]
  },
  {
   "cell_type": "markdown",
   "metadata": {},
   "source": [
    "### CHR_3 3"
   ]
  },
  {
   "cell_type": "code",
   "execution_count": null,
   "metadata": {},
   "outputs": [
    {
     "name": "stdout",
     "output_type": "stream",
     "text": [
      "Indeterminates:  [a_0 + I*b_0, a_1 + I*b_1, a_1 - I*b_1, a_0 - I*b_0] [v_0, 1 - 2*v_0, v_0, 0]\n"
     ]
    },
    {
     "data": {
      "text/plain": [
       "[Eq(2*a_0 + 2*a_1, 1),\n",
       " True,\n",
       " Eq(-v_0*(a_0 + I*b_0) - v_0*(a_0 + 2*a_1 + I*b_0) - (1 - 2*v_0)*(a_0 + a_1 + I*b_0 + I*b_1) + 1/2, 0),\n",
       " Eq(-v_0*(a_0 + I*b_0)**2 - v_0*(a_0 + 2*a_1 + I*b_0)**2 - (1 - 2*v_0)*(a_0 + a_1 + I*b_0 + I*b_1)**2 + 1/3, 0),\n",
       " Eq(-3*v_0**2*(a_0 + I*b_0)/2 - v_0**2*(a_0 + 2*a_1 + I*b_0)/2 - v_0*(1 - 2*v_0)*(a_0 + I*b_0) - v_0*(1 - 2*v_0)*(a_0 + a_1 + I*b_0 + I*b_1) - (1 - 2*v_0)**2*(a_0 + a_1 + I*b_0 + I*b_1)/2 + 1/6, 0)]"
      ]
     },
     "metadata": {},
     "output_type": "display_data"
    }
   ],
   "source": [
    "avec=[*symarray('a',4)]\n",
    "bvec=[*symarray('b',4)]\n",
    "tvec=[\n",
    "    avec[0]+I*bvec[0],\n",
    "    avec[1]+I*bvec[1],\n",
    "    avec[1]-I*bvec[1],\n",
    "    avec[0]-I*bvec[0],\n",
    "]\n",
    "vvec=[*symarray('v',4)]\n",
    "vvec[1]=1-2*vvec[0]\n",
    "vvec[3]=0\n",
    "vvec[2]=vvec[0]\n",
    "print(\"Indeterminates: \",tvec,vvec)\n",
    "CHR33conds=CreateConditions(3,tvec,vvec)\n",
    "display(CHR33conds)"
   ]
  },
  {
   "cell_type": "code",
   "execution_count": null,
   "metadata": {},
   "outputs": [
    {
     "name": "stdout",
     "output_type": "stream",
     "text": [
      "[True, True, True, True, True]\n"
     ]
    }
   ],
   "source": [
    "res=[it.simplify().subs([\n",
    "    ('a_0',3*S(1)/S(24)),\n",
    "          ('a_1',3*S(1)/S(8)),\n",
    "      ('b_0',-Pow(3,S(1)/S(2))/S(24)),\n",
    "          ('b_1',Pow(3,S(1)/S(2))/S(8)),\n",
    "          ('v_0',S(1)/S(3))\n",
    "         ]).simplify() for it in S64conds]\n",
    "print(res)"
   ]
  },
  {
   "cell_type": "markdown",
   "metadata": {},
   "source": [
    "### CHR_5 4"
   ]
  },
  {
   "cell_type": "code",
   "execution_count": null,
   "metadata": {},
   "outputs": [],
   "source": [
    "avec=[*symarray('a',6)]\n",
    "bvec=[*symarray('b',6)]\n",
    "tvec=[\n",
    "    avec[0]+I*bvec[0],\n",
    "    avec[1]+I*bvec[1],\n",
    "    avec[1]-I*bvec[1],\n",
    "    avec[0]-I*bvec[0],\n",
    "]\n",
    "print(\"Indeterminates: \",tvec,vvec)\n",
    "CHR54conds=CreateConditions(4,tvec,vvec)\n",
    "display(CHR54conds)"
   ]
  },
  {
   "cell_type": "markdown",
   "metadata": {},
   "source": [
    "### CHR_9 5"
   ]
  },
  {
   "cell_type": "code",
   "execution_count": null,
   "metadata": {},
   "outputs": [],
   "source": [
    "avec=[*symarray('a',10)]\n",
    "bvec=[*symarray('b',10)]\n",
    "tvec=[\n",
    "    avec[0]+I*bvec[0],\n",
    "    avec[1]+I*bvec[1],\n",
    "    avec[1]-I*bvec[1],\n",
    "    avec[0]-I*bvec[0],\n",
    "]\n",
    "print(\"Indeterminates: \",tvec,vvec)\n",
    "CHR95conds=CreateConditions(5,tvec,vvec)\n",
    "display(CHR95conds)"
   ]
  },
  {
   "cell_type": "markdown",
   "metadata": {},
   "source": [
    "### CHR_15 6"
   ]
  },
  {
   "cell_type": "code",
   "execution_count": null,
   "metadata": {},
   "outputs": [],
   "source": [
    "avec=[*symarray('a',16)]\n",
    "bvec=[*symarray('b',16)]\n",
    "tvec=[\n",
    "    avec[0]+I*bvec[0],\n",
    "    avec[1]+I*bvec[1],\n",
    "    avec[1]-I*bvec[1],\n",
    "    avec[0]-I*bvec[0],\n",
    "]\n",
    "print(\"Indeterminates: \",tvec,vvec)\n",
    "CHR156conds=CreateConditions(6,tvec,vvec)\n",
    "display(CHR156conds)"
   ]
  }
 ],
 "metadata": {
  "kernelspec": {
   "display_name": "Python 3",
   "language": "python",
   "name": "python3"
  }
 },
 "nbformat": 4,
 "nbformat_minor": 2
}
