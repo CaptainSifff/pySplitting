{
 "cells": [
  {
   "cell_type": "code",
   "execution_count": null,
   "metadata": {},
   "outputs": [],
   "source": [
    "# default_exp core"
   ]
  },
  {
   "cell_type": "markdown",
   "metadata": {},
   "source": [
    "# pySplitting\n",
    "\n",
    "> API details."
   ]
  },
  {
   "cell_type": "code",
   "execution_count": null,
   "metadata": {},
   "outputs": [],
   "source": [
    "#hide\n",
    "from nbdev.showdoc import *"
   ]
  },
  {
   "cell_type": "markdown",
   "metadata": {},
   "source": []
  },
  {
   "cell_type": "code",
   "execution_count": null,
   "metadata": {},
   "outputs": [
    {
     "name": "stdout",
     "output_type": "stream",
     "text": [
      "5\n"
     ]
    }
   ],
   "source": [
    "print(1+4)"
   ]
  },
  {
   "cell_type": "code",
   "execution_count": null,
   "metadata": {},
   "outputs": [],
   "source": [
    "from sympy import factorial as fact\n",
    "import array as arr\n",
    "#x = symbols('x')\n",
    "#a = Integral(cos(x)*exp(x),x)\n",
    "#Eq(a,a.doit())"
   ]
  },
  {
   "cell_type": "code",
   "execution_count": null,
   "metadata": {},
   "outputs": [],
   "source": [
    "#solve(x**2-1.5,x)"
   ]
  },
  {
   "cell_type": "code",
   "execution_count": null,
   "metadata": {},
   "outputs": [],
   "source": [
    "%nbdev_export\n",
    "\n",
    "from sympy import factorial as fact\n",
    "\n",
    "# Mathematica counts from 1, python from zero!!!!!!\n",
    "def findpos(lam):\n",
    "    retval = -1\n",
    "    i = 0\n",
    "    while (i < len(lam)-1) and (retval == -1):\n",
    "        if lam[i] == lam[i+1]:\n",
    "            i = i + 1\n",
    "        else:\n",
    "            retval = i\n",
    "    if retval == -1:\n",
    "        retval = len(lam)-1\n",
    "    return retval"
   ]
  },
  {
   "cell_type": "code",
   "execution_count": null,
   "metadata": {},
   "outputs": [
    {
     "name": "stdout",
     "output_type": "stream",
     "text": [
      "res= 0\n"
     ]
    }
   ],
   "source": [
    "l=arr.array('i',[5,3,3])\n",
    "print(\"res=\", findpos(l))"
   ]
  },
  {
   "cell_type": "code",
   "execution_count": null,
   "metadata": {},
   "outputs": [
    {
     "data": {
      "text/plain": [
       "3"
      ]
     },
     "execution_count": null,
     "metadata": {},
     "output_type": "execute_result"
    }
   ],
   "source": [
    "len(l)"
   ]
  },
  {
   "cell_type": "code",
   "execution_count": null,
   "metadata": {},
   "outputs": [],
   "source": [
    "%nbdev_export\n",
    "def isstrictlyascending(lam):\n",
    "    \"\"\"This determines whether the index string is a strictly ascending sequence\n",
    "    \n",
    "    Parameters\n",
    "    ----------\n",
    "    lam : an indexable object of things that are comparable. Usually an array of integers\n",
    "    \n",
    "    Returns\n",
    "    -------\n",
    "    bool : true if the sequence is strictly ascending, else false.\n",
    "    \"\"\"\n",
    "    retval = True\n",
    "    i = 0\n",
    "    while (i < len(lam)-1) and retval == True:\n",
    "        if lam[i] < lam[i+1]:\n",
    "            i = i+1\n",
    "        else:\n",
    "            retval = False\n",
    "    return retval"
   ]
  },
  {
   "cell_type": "code",
   "execution_count": null,
   "metadata": {},
   "outputs": [
    {
     "name": "stdout",
     "output_type": "stream",
     "text": [
      "res= True\n"
     ]
    }
   ],
   "source": [
    "l=arr.array('i',[2,3,4])\n",
    "print(\"res=\", isstrictlyascending(l))"
   ]
  },
  {
   "cell_type": "code",
   "execution_count": null,
   "metadata": {},
   "outputs": [],
   "source": [
    "%nbdev_export\n",
    "def alpha(lam):\n",
    "    retval = 1\n",
    "    if (len(lam) > 1) and not isstrictlyascending(lam):\n",
    "        pos = findpos(lam)\n",
    "        retval = 1/fact(pos+1)*alpha(lam[pos+1:])\n",
    "    return retval"
   ]
  },
  {
   "cell_type": "code",
   "execution_count": null,
   "metadata": {},
   "outputs": [
    {
     "name": "stdout",
     "output_type": "stream",
     "text": [
      "res=  1/2\n"
     ]
    }
   ],
   "source": [
    "l=arr.array('i',[1,2,3,3])\n",
    "print(\"res= \",alpha(l))"
   ]
  },
  {
   "cell_type": "code",
   "execution_count": null,
   "metadata": {},
   "outputs": [
    {
     "name": "stdout",
     "output_type": "stream",
     "text": [
      "array('i')\n"
     ]
    }
   ],
   "source": [
    "t = arr.array('i',[2,2])\n",
    "print(t[1+1:])"
   ]
  },
  {
   "cell_type": "code",
   "execution_count": null,
   "metadata": {},
   "outputs": [
    {
     "data": {
      "text/latex": [
       "$\\displaystyle \\frac{1}{2}$"
      ],
      "text/plain": [
       "1/2"
      ]
     },
     "execution_count": null,
     "metadata": {},
     "output_type": "execute_result"
    }
   ],
   "source": [
    "alpha([1,1,2])"
   ]
  },
  {
   "cell_type": "code",
   "execution_count": null,
   "metadata": {},
   "outputs": [
    {
     "data": {
      "text/latex": [
       "$\\displaystyle 295232799039604140847618609643520000000$"
      ],
      "text/plain": [
       "295232799039604140847618609643520000000"
      ]
     },
     "execution_count": null,
     "metadata": {},
     "output_type": "execute_result"
    }
   ],
   "source": [
    "fact(34)"
   ]
  },
  {
   "cell_type": "code",
   "execution_count": null,
   "metadata": {},
   "outputs": [],
   "source": []
  }
 ],
 "metadata": {
  "kernelspec": {
   "display_name": "Python 3",
   "language": "python",
   "name": "python3"
  }
 },
 "nbformat": 4,
 "nbformat_minor": 2
}
