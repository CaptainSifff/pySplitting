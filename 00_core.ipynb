{
 "cells": [
  {
   "cell_type": "code",
   "execution_count": null,
   "metadata": {},
   "outputs": [],
   "source": [
    "# default_exp core"
   ]
  },
  {
   "cell_type": "markdown",
   "metadata": {},
   "source": [
    "# pySplitting\n",
    "\n",
    "> API details."
   ]
  },
  {
   "cell_type": "code",
   "execution_count": null,
   "metadata": {},
   "outputs": [],
   "source": [
    "#hide\n",
    "from nbdev.showdoc import *"
   ]
  },
  {
   "cell_type": "markdown",
   "metadata": {},
   "source": []
  },
  {
   "cell_type": "code",
   "execution_count": null,
   "metadata": {},
   "outputs": [
    {
     "name": "stdout",
     "output_type": "stream",
     "text": [
      "5\n"
     ]
    }
   ],
   "source": [
    "print(1+4)"
   ]
  },
  {
   "cell_type": "code",
   "execution_count": null,
   "metadata": {},
   "outputs": [],
   "source": [
    "from sympy import factorial as fact\n",
    "import array as arr\n",
    "#x = symbols('x')\n",
    "#a = Integral(cos(x)*exp(x),x)\n",
    "#Eq(a,a.doit())"
   ]
  },
  {
   "cell_type": "code",
   "execution_count": null,
   "metadata": {},
   "outputs": [],
   "source": [
    "#solve(x**2-1.5,x)"
   ]
  },
  {
   "cell_type": "code",
   "execution_count": null,
   "metadata": {},
   "outputs": [],
   "source": [
    "%nbdev_export\n",
    "\n",
    "from sympy import factorial as fact\n",
    "from itertools import product\n",
    "\n",
    "\n",
    "# Mathematica counts from 1, python from zero!!!!!!\n",
    "def findpos(lam):\n",
    "    retval = -1\n",
    "    i = 0\n",
    "    while (i < len(lam)-1) and (retval == -1):\n",
    "        if lam[i] == lam[i+1]:\n",
    "            i = i + 1\n",
    "        else:\n",
    "            retval = i\n",
    "    if retval == -1:\n",
    "        retval = len(lam)-1\n",
    "    return retval"
   ]
  },
  {
   "cell_type": "code",
   "execution_count": null,
   "metadata": {},
   "outputs": [
    {
     "name": "stdout",
     "output_type": "stream",
     "text": [
      "res= 0\n"
     ]
    }
   ],
   "source": [
    "l=arr.array('i',[5,3,3])\n",
    "print(\"res=\", findpos(l))"
   ]
  },
  {
   "cell_type": "code",
   "execution_count": null,
   "metadata": {},
   "outputs": [],
   "source": [
    "%nbdev_export\n",
    "def isstrictlyascending(lam):\n",
    "    \"\"\"This determines whether the index string is a strictly ascending sequence\n",
    "    \n",
    "    Parameters\n",
    "    ----------\n",
    "    lam : an indexable object of things that are comparable. Usually an array of integers\n",
    "    \n",
    "    Returns\n",
    "    -------\n",
    "    bool : true if the sequence is strictly ascending, else false.\n",
    "    \"\"\"\n",
    "    retval = True\n",
    "    for i in range(0, len(lam)-1):\n",
    "#        print(lam[i],lam[i+1])\n",
    "        retval = retval and lam[i] < lam[i+1]\n",
    "#    i = 0\n",
    "#    while (i < len(lam)-1) and retval == True:\n",
    "#        if StrictLessThan(lam[i], lam[i+1]):\n",
    "#        if sympify(lam[i] < lam[i+1]):\n",
    "#            i = i+1\n",
    "#        else:\n",
    "#            retval = False\n",
    "    return retval"
   ]
  },
  {
   "cell_type": "code",
   "execution_count": null,
   "metadata": {},
   "outputs": [
    {
     "name": "stdout",
     "output_type": "stream",
     "text": [
      "res= True\n"
     ]
    }
   ],
   "source": [
    "l=arr.array('i',[2,3,4])\n",
    "print(\"res=\", isstrictlyascending(l))"
   ]
  },
  {
   "cell_type": "code",
   "execution_count": null,
   "metadata": {},
   "outputs": [],
   "source": [
    "%nbdev_export\n",
    "def alpha(lam):\n",
    "    retval = 1\n",
    "#    isa = isstrictlyascending(lam)\n",
    "    if (len(lam) > 1) and not isstrictlyascending(lam):\n",
    "        pos = findpos(lam)\n",
    "        retval = 1/fact(pos+1)*alpha(lam[pos+1:])\n",
    "    return retval"
   ]
  },
  {
   "cell_type": "code",
   "execution_count": null,
   "metadata": {},
   "outputs": [
    {
     "name": "stdout",
     "output_type": "stream",
     "text": [
      "res=  1/2\n"
     ]
    }
   ],
   "source": [
    "l=arr.array('i',[1,2,3,3])\n",
    "print(\"res= \",alpha(l))"
   ]
  },
  {
   "cell_type": "code",
   "execution_count": null,
   "metadata": {},
   "outputs": [
    {
     "name": "stdout",
     "output_type": "stream",
     "text": [
      "array('i')\n"
     ]
    }
   ],
   "source": [
    "t = arr.array('i',[2,2])\n",
    "print(t[1+1:])"
   ]
  },
  {
   "cell_type": "code",
   "execution_count": null,
   "metadata": {},
   "outputs": [
    {
     "name": "stdout",
     "output_type": "stream",
     "text": [
      "1 1\n",
      "1 2\n"
     ]
    },
    {
     "data": {
      "text/latex": [
       "$\\displaystyle \\frac{1}{2}$"
      ],
      "text/plain": [
       "1/2"
      ]
     },
     "execution_count": null,
     "metadata": {},
     "output_type": "execute_result"
    }
   ],
   "source": [
    "alpha([1,1,2])"
   ]
  },
  {
   "cell_type": "code",
   "execution_count": null,
   "metadata": {},
   "outputs": [],
   "source": [
    "%nbdev_export\n",
    "def CreateMuVectors(p,k):\n",
    "    \"\"\"This function creates the set of possible $$\\mu$$ vectors.\n",
    "    \n",
    "    Parameters\n",
    "    ----------\n",
    "    p : the considered order\n",
    "    k : 1 <=k<=p\n",
    "    \n",
    "    Returns\n",
    "    -------\n",
    "    array : A list of multiindices\n",
    "    \"\"\"\n",
    "    absmu = p-k\n",
    "    retval = []\n",
    "    for el in product(range(0,absmu+1),repeat=k):\n",
    "        if sum(el)<=absmu:\n",
    "            retval.append(el)\n",
    "    return retval"
   ]
  },
  {
   "cell_type": "code",
   "execution_count": null,
   "metadata": {},
   "outputs": [
    {
     "data": {
      "text/plain": [
       "[(0, 0), (0, 1), (0, 2), (1, 0), (1, 1), (2, 0)]"
      ]
     },
     "execution_count": null,
     "metadata": {},
     "output_type": "execute_result"
    }
   ],
   "source": [
    "CreateMuVectors(4,2)"
   ]
  },
  {
   "cell_type": "code",
   "execution_count": null,
   "metadata": {},
   "outputs": [],
   "source": [
    "%nbdev_export\n",
    "def CreateLyndonIndices(p,k):\n",
    "    \"\"\"This function creates the set of Lyndon indices\n",
    "    \n",
    "    Parameters\n",
    "    ----------\n",
    "    p : the considered order\n",
    "    k : 1 <=k<=p\n",
    "    \n",
    "    Returns\n",
    "    -------\n",
    "    array : A list of Lyndon multiindices\n",
    "    \"\"\"\n",
    "    retval = []\n",
    "    S = list(range(1,p+1))#create the alphabet\n",
    "    w = [S[0] - 1]\n",
    "    while len(w) > 0:\n",
    "        w[-1]=w[-1]+1\n",
    "        m = len(w)\n",
    "        if m == k:\n",
    "            str = []\n",
    "            for it in w:\n",
    "                str.append(S[it-1])\n",
    "            retval.append(str)\n",
    "        # repeat w to get a string of length n\n",
    "        while len(w) < k:\n",
    "            w.append(w[-m])\n",
    "        # remove the last character as long as it is equal to the largest character in S\n",
    "        while (len(w) > 0) and w[-1] == S[-1]:\n",
    "            w.pop()\n",
    "    \n",
    "    retval2=[]\n",
    "    for el in retval:\n",
    "        if sum(el)<=p:\n",
    "            retval2.append([num - 1 for num in el])# subtract 1 from the final result. FIXME: this could be optimized\n",
    "    return retval2"
   ]
  },
  {
   "cell_type": "code",
   "execution_count": null,
   "metadata": {},
   "outputs": [
    {
     "name": "stdout",
     "output_type": "stream",
     "text": [
      "[[0, 1], [0, 2], [0, 3], [1, 2]]\n"
     ]
    }
   ],
   "source": [
    "print(CreateLyndonIndices(5,2))"
   ]
  },
  {
   "cell_type": "code",
   "execution_count": null,
   "metadata": {},
   "outputs": [],
   "source": [
    "%nbdev_export\n",
    "def CreateEquation(mu, bvec, cvec):\n",
    "    \"\"\"This function gives the coefficient for a particular multiindex mu.\n",
    "   It is the coefficient of a Len (mu) long product of iterated \n",
    "   commutators [A, B]_(mu_k).\n",
    "\n",
    "Parameters\n",
    "    ----------\n",
    "    mu : a multiindex\n",
    "    bvec : a string of symbols\n",
    "    cvec : a string of symbols(usually the partial sums of the avec)\n",
    "    \n",
    "    Returns\n",
    "    -------\n",
    "    expr : a symbolic expression, a polynomial in terms of the contents of bvec and cvec\n",
    "\"\"\"\n",
    "    k = len(mu)\n",
    "    retval1=1\n",
    "    for l in range(k):\n",
    "        retval1=retval1*1/sympify(sum(mu[l:])+k-l)\n",
    "    print(retval1)\n",
    "    retval2=0\n",
    "    for it in itertools.combinations_with_replacement([*range(len(bvec),0,-1)],r=k):\n",
    "        retvalprod = 1\n",
    "        for i in range(k):\n",
    "            retvalprod = retvalprod*bvec[it[i]-1]*cvec[it[i]-1]**mu[i]\n",
    "        retval2=retval2 + alpha(it)*retvalprod\n",
    "\n",
    "    return retval1-retval2"
   ]
  },
  {
   "cell_type": "code",
   "execution_count": null,
   "metadata": {},
   "outputs": [
    {
     "name": "stdout",
     "output_type": "stream",
     "text": [
      "1/144\n",
      "1/144\n",
      "-a_0**3*b_0**5/6 - a_0**2*a_1*b_0**4*b_1/2 - a_0**2*a_2*b_0**4*b_2/2 - a_0*a_1**2*b_0**2*b_1**3/2 - a_0*a_1*a_2*b_0**2*b_1**2*b_2 - a_0*a_2**2*b_0**2*b_2**3/2 - a_1**3*b_1**5/6 - a_1**2*a_2*b_1**4*b_2/2 - a_1*a_2**2*b_1**2*b_2**3/2 - a_2**3*b_2**5/6 + 1/144\n",
      "a_0**3*b_0**5/6 + a_0**2*a_1*b_0**4*b_1/2 + a_0**2*a_2*b_0**4*b_2/2 + a_0*a_1**2*b_0**2*b_1**3/2 + a_0*a_1*a_2*b_0**2*b_1**2*b_2 + a_0*a_2**2*b_0**2*b_2**3/2 + a_1**3*b_1**5/6 + a_1**2*a_2*b_1**4*b_2/2 + a_1*a_2**2*b_1**2*b_2**3/2 + a_2**3*b_2**5/6\n"
     ]
    }
   ],
   "source": [
    "from sympy import sympify,symarray,Array\n",
    "from itertools import combinations_with_replacement\n",
    "mu=[1,2,2]\n",
    "res=1\n",
    "for l in range(len(mu)):\n",
    "#    print(l,mu[l:])\n",
    "    res=res*1/sympify(sum(mu[l:])+len(mu)-l)\n",
    "print(res)\n",
    "\n",
    "avec=[*symarray('a',3)]\n",
    "bvec=[*symarray('b',3)]\n",
    "\n",
    "ret=CreateEquation(mu,avec,bvec)\n",
    "print(ret)\n",
    "\n",
    "retval = 0\n",
    "for it in itertools.combinations_with_replacement([*range(len(bvec),0,-1)],r=len(mu)):\n",
    "    retvalprod = 1\n",
    "    for i in range(len(mu)):\n",
    "        retvalprod = retvalprod*avec[it[i]-1]*bvec[it[i]-1]**mu[i]\n",
    "    retval=retval + alpha(it)*retvalprod\n",
    "print(retval)"
   ]
  }
 ],
 "metadata": {
  "kernelspec": {
   "display_name": "Python 3",
   "language": "python",
   "name": "python3"
  }
 },
 "nbformat": 4,
 "nbformat_minor": 2
}
