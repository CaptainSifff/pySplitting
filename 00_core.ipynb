{
 "cells": [
  {
   "cell_type": "code",
   "execution_count": null,
   "metadata": {},
   "outputs": [],
   "source": [
    "# default_exp core"
   ]
  },
  {
   "cell_type": "markdown",
   "metadata": {},
   "source": [
    "# pySplitting\n",
    "\n",
    "> API details."
   ]
  },
  {
   "cell_type": "code",
   "execution_count": null,
   "metadata": {},
   "outputs": [],
   "source": [
    "#hide\n",
    "from nbdev.showdoc import *"
   ]
  },
  {
   "cell_type": "markdown",
   "metadata": {},
   "source": []
  },
  {
   "cell_type": "code",
   "execution_count": null,
   "metadata": {},
   "outputs": [
    {
     "name": "stdout",
     "output_type": "stream",
     "text": [
      "5\n"
     ]
    }
   ],
   "source": [
    "print(1+4)"
   ]
  },
  {
   "cell_type": "code",
   "execution_count": null,
   "metadata": {},
   "outputs": [],
   "source": [
    "from sympy import factorial as fact\n",
    "import array as arr\n",
    "#x = symbols('x')\n",
    "#a = Integral(cos(x)*exp(x),x)\n",
    "#Eq(a,a.doit())"
   ]
  },
  {
   "cell_type": "code",
   "execution_count": null,
   "metadata": {},
   "outputs": [],
   "source": [
    "#solve(x**2-1.5,x)"
   ]
  },
  {
   "cell_type": "code",
   "execution_count": null,
   "metadata": {},
   "outputs": [],
   "source": [
    "%nbdev_export\n",
    "\n",
    "from sympy import factorial as fact\n",
    "from itertools import product\n",
    "\n",
    "\n",
    "# Mathematica counts from 1, python from zero!!!!!!\n",
    "def findpos(lam):\n",
    "    retval = -1\n",
    "    i = 0\n",
    "    while (i < len(lam)-1) and (retval == -1):\n",
    "        if lam[i] == lam[i+1]:\n",
    "            i = i + 1\n",
    "        else:\n",
    "            retval = i\n",
    "    if retval == -1:\n",
    "        retval = len(lam)-1\n",
    "    return retval"
   ]
  },
  {
   "cell_type": "code",
   "execution_count": null,
   "metadata": {},
   "outputs": [
    {
     "name": "stdout",
     "output_type": "stream",
     "text": [
      "res= 0\n"
     ]
    }
   ],
   "source": [
    "l=arr.array('i',[5,3,3])\n",
    "print(\"res=\", findpos(l))"
   ]
  },
  {
   "cell_type": "code",
   "execution_count": null,
   "metadata": {},
   "outputs": [
    {
     "data": {
      "text/plain": [
       "3"
      ]
     },
     "execution_count": null,
     "metadata": {},
     "output_type": "execute_result"
    }
   ],
   "source": [
    "len(l)"
   ]
  },
  {
   "cell_type": "code",
   "execution_count": null,
   "metadata": {},
   "outputs": [],
   "source": [
    "%nbdev_export\n",
    "def isstrictlyascending(lam):\n",
    "    \"\"\"This determines whether the index string is a strictly ascending sequence\n",
    "    \n",
    "    Parameters\n",
    "    ----------\n",
    "    lam : an indexable object of things that are comparable. Usually an array of integers\n",
    "    \n",
    "    Returns\n",
    "    -------\n",
    "    bool : true if the sequence is strictly ascending, else false.\n",
    "    \"\"\"\n",
    "    retval = True\n",
    "    i = 0\n",
    "    while (i < len(lam)-1) and retval == True:\n",
    "        if lam[i] < lam[i+1]:\n",
    "            i = i+1\n",
    "        else:\n",
    "            retval = False\n",
    "    return retval"
   ]
  },
  {
   "cell_type": "code",
   "execution_count": null,
   "metadata": {},
   "outputs": [
    {
     "name": "stdout",
     "output_type": "stream",
     "text": [
      "res= True\n"
     ]
    }
   ],
   "source": [
    "l=arr.array('i',[2,3,4])\n",
    "print(\"res=\", isstrictlyascending(l))"
   ]
  },
  {
   "cell_type": "code",
   "execution_count": null,
   "metadata": {},
   "outputs": [],
   "source": [
    "%nbdev_export\n",
    "def alpha(lam):\n",
    "    retval = 1\n",
    "    if (len(lam) > 1) and not isstrictlyascending(lam):\n",
    "        pos = findpos(lam)\n",
    "        retval = 1/fact(pos+1)*alpha(lam[pos+1:])\n",
    "    return retval"
   ]
  },
  {
   "cell_type": "code",
   "execution_count": null,
   "metadata": {},
   "outputs": [
    {
     "name": "stdout",
     "output_type": "stream",
     "text": [
      "res=  1/2\n"
     ]
    }
   ],
   "source": [
    "l=arr.array('i',[1,2,3,3])\n",
    "print(\"res= \",alpha(l))"
   ]
  },
  {
   "cell_type": "code",
   "execution_count": null,
   "metadata": {},
   "outputs": [
    {
     "name": "stdout",
     "output_type": "stream",
     "text": [
      "array('i')\n"
     ]
    }
   ],
   "source": [
    "t = arr.array('i',[2,2])\n",
    "print(t[1+1:])"
   ]
  },
  {
   "cell_type": "code",
   "execution_count": null,
   "metadata": {},
   "outputs": [
    {
     "data": {
      "text/latex": [
       "$\\displaystyle \\frac{1}{2}$"
      ],
      "text/plain": [
       "1/2"
      ]
     },
     "execution_count": null,
     "metadata": {},
     "output_type": "execute_result"
    }
   ],
   "source": [
    "alpha([1,1,2])"
   ]
  },
  {
   "cell_type": "code",
   "execution_count": null,
   "metadata": {},
   "outputs": [
    {
     "data": {
      "text/latex": [
       "$\\displaystyle 295232799039604140847618609643520000000$"
      ],
      "text/plain": [
       "295232799039604140847618609643520000000"
      ]
     },
     "execution_count": null,
     "metadata": {},
     "output_type": "execute_result"
    }
   ],
   "source": [
    "fact(34)"
   ]
  },
  {
   "cell_type": "code",
   "execution_count": null,
   "metadata": {},
   "outputs": [],
   "source": [
    "%nbdev_export\n",
    "def CreateMuVectors(p,k):\n",
    "    \"\"\"This function creates the set of possible $$\\mu$$ vectors.\n",
    "    \n",
    "    Parameters\n",
    "    ----------\n",
    "    p : the considered order\n",
    "    k : 1 <=k<=p\n",
    "    \n",
    "    Returns\n",
    "    -------\n",
    "    array : A list of multiindices\n",
    "    \"\"\"\n",
    "    absmu = p-k\n",
    "    retval = []\n",
    "    for el in product(range(0,absmu+1),repeat=k):\n",
    "        if sum(el)<=absmu:\n",
    "            retval.append(el)\n",
    "    return retval"
   ]
  },
  {
   "cell_type": "code",
   "execution_count": null,
   "metadata": {},
   "outputs": [
    {
     "data": {
      "text/plain": [
       "[(0, 0), (0, 1), (0, 2), (1, 0), (1, 1), (2, 0)]"
      ]
     },
     "execution_count": null,
     "metadata": {},
     "output_type": "execute_result"
    }
   ],
   "source": [
    "CreateMuVectors(4,2)"
   ]
  },
  {
   "cell_type": "code",
   "execution_count": null,
   "metadata": {},
   "outputs": [],
   "source": [
    "def CreateLyndonIndices(p,k):\n",
    "    \"\"\"This function creates the set of Lyndon indices\n",
    "    \n",
    "    Parameters\n",
    "    ----------\n",
    "    p : the considered order\n",
    "    k : 1 <=k<=p\n",
    "    \n",
    "    Returns\n",
    "    -------\n",
    "    array : A list of Lyndon multiindices\n",
    "    \"\"\"\n",
    "    retval = []\n",
    "    S = list(range(1,p+1))#create the alphabet\n",
    "    w = [S[0] - 1]\n",
    "    while len(w) > 0:\n",
    "        w[-1]=w[-1]+1\n",
    "        m = len(w)\n",
    "        if m == k:\n",
    "            str = []\n",
    "            for it in w:\n",
    "                str.append(S[it-1])\n",
    "            retval.append(str)\n",
    "        # repeat w to get a string of length n\n",
    "        while len(w) < k:\n",
    "            w.append(w[-m])\n",
    "        # remove the last character as long as it is equal to the largest character in S\n",
    "        while (len(w) > 0) and w[-1] == S[-1]:\n",
    "            w.pop()\n",
    "    \n",
    "    retval2=[]\n",
    "    for el in retval:\n",
    "        if sum(el)<=p:\n",
    "            retval2.append([num - 1 for num in el])# subtract 1 from the final result. FIXME: this could be optimized\n",
    "    return retval2"
   ]
  },
  {
   "cell_type": "code",
   "execution_count": null,
   "metadata": {},
   "outputs": [
    {
     "name": "stdout",
     "output_type": "stream",
     "text": [
      "[[0, 1], [0, 2], [0, 3], [1, 2]]\n"
     ]
    }
   ],
   "source": [
    "print(CreateLyndonIndices(5,2))"
   ]
  },
  {
   "cell_type": "code",
   "execution_count": null,
   "metadata": {},
   "outputs": [],
   "source": []
  }
 ],
 "metadata": {
  "kernelspec": {
   "display_name": "Python 3",
   "language": "python",
   "name": "python3"
  }
 },
 "nbformat": 4,
 "nbformat_minor": 2
}
