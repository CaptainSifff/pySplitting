{
 "cells": [
  {
   "cell_type": "code",
   "execution_count": null,
   "metadata": {},
   "outputs": [],
   "source": [
    "# default_exp core"
   ]
  },
  {
   "cell_type": "markdown",
   "metadata": {},
   "source": [
    "# pySplitting\n",
    "\n",
    "> This is a port of the Mathematica script to python3.\n",
    "> First we define a number of helper functions. The important part is CreateConditions at the end.\n",
    "> We have sympy as dependency and a suitably recent Python3."
   ]
  },
  {
   "cell_type": "code",
   "execution_count": null,
   "metadata": {},
   "outputs": [],
   "source": [
    "#hide\n",
    "from nbdev.showdoc import *"
   ]
  },
  {
   "cell_type": "code",
   "execution_count": null,
   "metadata": {},
   "outputs": [],
   "source": [
    "%nbdev_export\n",
    "\n",
    "from sympy import *\n",
    "from sympy import sympify\n",
    "from itertools import *\n",
    "\n",
    "\n",
    "# Mathematica counts from 1, python from zero!!!!!!\n",
    "def findpos(lam):\n",
    "    \"\"\"This determines whether the index string is a strictly ascending sequence.\n",
    "    \n",
    "    Parameters\n",
    "    ----------\n",
    "    lam : an indexable object of things that are comparable. Usually an array of integers\n",
    "    \n",
    "    Returns\n",
    "    -------\n",
    "    bool : the position in the string where two ints are equal.\n",
    "    \"\"\"\n",
    "    retval = -1\n",
    "    i = 0\n",
    "    while (i < len(lam)-1) and (retval == -1):\n",
    "        if lam[i] == lam[i+1]:\n",
    "            i = i + 1\n",
    "        else:\n",
    "            retval = i\n",
    "    if retval == -1:\n",
    "        retval = len(lam)-1\n",
    "    return retval"
   ]
  },
  {
   "cell_type": "code",
   "execution_count": null,
   "metadata": {},
   "outputs": [],
   "source": [
    "%nbdev_export\n",
    "def isstrictlyascending(lam):\n",
    "    \"\"\"This determines whether the index string is a strictly ascending sequence\n",
    "    \n",
    "    Parameters\n",
    "    ----------\n",
    "    lam : an indexable object of things that are comparable. Usually an array of integers\n",
    "    \n",
    "    Returns\n",
    "    -------\n",
    "    bool : true if the sequence is strictly ascending, else false.\n",
    "    \"\"\"\n",
    "    retval = True\n",
    "    for i in range(0, len(lam)-1):\n",
    "#        print(lam[i],lam[i+1])\n",
    "        retval = retval and lam[i] < lam[i+1]\n",
    "#    i = 0\n",
    "#    while (i < len(lam)-1) and retval == True:\n",
    "#        if StrictLessThan(lam[i], lam[i+1]):\n",
    "#        if sympify(lam[i] < lam[i+1]):\n",
    "#            i = i+1\n",
    "#        else:\n",
    "#            retval = False\n",
    "    return retval"
   ]
  },
  {
   "cell_type": "code",
   "execution_count": null,
   "metadata": {},
   "outputs": [],
   "source": [
    "%nbdev_export\n",
    "def alpha(lam):\n",
    "    \"\"\"\n",
    "    The alpha factor. This determines the real alpha coefficient as given by Thalhammer and elaborated by Blanes.\n",
    "    \n",
    "    Parameters\n",
    "    ----------\n",
    "    lam : A multiindex of integers.\n",
    "    \n",
    "    Returns\n",
    "    -------\n",
    "    Rational: alpha(lam)\n",
    "    \"\"\"\n",
    "    retval = 1\n",
    "    if (len(lam) > 1) and not isstrictlyascending(lam):\n",
    "        pos = findpos(lam)\n",
    "        retval = 1/factorial(pos+1)*alpha(lam[pos+1:])\n",
    "    return retval"
   ]
  },
  {
   "cell_type": "code",
   "execution_count": null,
   "metadata": {},
   "outputs": [],
   "source": [
    "# Let's try a test. This should give 1/6\n",
    "assert alpha([1,1,1,2])==Rational(1,6)"
   ]
  },
  {
   "cell_type": "code",
   "execution_count": null,
   "metadata": {},
   "outputs": [],
   "source": [
    "%nbdev_export\n",
    "def CreateMuVectors(p,k):\n",
    "    \"\"\"This function creates the set of possible $$\\mu$$ vectors.\n",
    "    \n",
    "    Parameters\n",
    "    ----------\n",
    "    p : the considered order\n",
    "    k : 1 <=k<=p\n",
    "    \n",
    "    Returns\n",
    "    -------\n",
    "    array : A list of multiindices\n",
    "    \"\"\"\n",
    "    absmu = p-k\n",
    "    retval = []\n",
    "    for el in product(range(0,absmu+1),repeat=k):\n",
    "        if sum(el)<=absmu:\n",
    "            retval.append(el)\n",
    "    return retval"
   ]
  },
  {
   "cell_type": "code",
   "execution_count": null,
   "metadata": {},
   "outputs": [],
   "source": [
    "%nbdev_export\n",
    "def CreateLyndonIndices(p,k):\n",
    "    \"\"\"This function creates the set of Lyndon indices.\n",
    "    \n",
    "    Parameters\n",
    "    ----------\n",
    "    p : the considered order\n",
    "    k : 1 <=k<=p\n",
    "    \n",
    "    Returns\n",
    "    -------\n",
    "    array : A list of Lyndon multiindices\n",
    "    \"\"\"\n",
    "    retval = []\n",
    "    S = list(range(1,p+1))#create the alphabet\n",
    "    w = [S[0] - 1]\n",
    "    while len(w) > 0:\n",
    "        w[-1]=w[-1]+1\n",
    "        m = len(w)\n",
    "        if m == k:\n",
    "            str = []\n",
    "            for it in w:\n",
    "                str.append(S[it-1])\n",
    "            retval.append(str)\n",
    "        # repeat w to get a string of length n\n",
    "        while len(w) < k:\n",
    "            w.append(w[-m])\n",
    "        # remove the last character as long as it is equal to the largest character in S\n",
    "        while (len(w) > 0) and w[-1] == S[-1]:\n",
    "            w.pop()\n",
    "    \n",
    "    retval2=[]\n",
    "    for el in retval:\n",
    "        if sum(el)<=p:\n",
    "            retval2.append([num - 1 for num in el])# subtract 1 from the final result. FIXME: this could be optimized\n",
    "    return retval2"
   ]
  },
  {
   "cell_type": "code",
   "execution_count": null,
   "metadata": {},
   "outputs": [],
   "source": [
    "%nbdev_export\n",
    "def CreateEquation(mu, bvec, cvec):\n",
    "    \"\"\"This function gives the coefficient for a particular multiindex mu.\n",
    "    \n",
    "    It is the real coefficient of a Len(mu) long product of iterated commutators [A, B]_(mu_k).\n",
    "    \n",
    "    Parameters\n",
    "    ----------\n",
    "    mu : a multiindex\n",
    "    bvec : a string of symbols.\n",
    "    cvec : a string of symbols(usually the partial sums of the avec).\n",
    "    \n",
    "    Returns\n",
    "    -------\n",
    "    expr : a symbolic expression, a polynomial in terms of the contents of bvec and cvec.\n",
    "\"\"\"\n",
    "    k = len(mu)\n",
    "    retval1=1\n",
    "    for l in range(k):\n",
    "        retval1=retval1*1/sympify(sum(mu[l:])+k-l)\n",
    "    #print(retval1)\n",
    "    retval2=0\n",
    "    for it in combinations_with_replacement([*range(len(bvec),0,-1)],r=k):\n",
    "        retvalprod = 1\n",
    "        for i in range(k):\n",
    "            retvalprod = retvalprod*bvec[it[i]-1]*cvec[it[i]-1]**mu[i]\n",
    "        retval2=retval2 + alpha(it)*retvalprod\n",
    "\n",
    "    return retval1-retval2"
   ]
  },
  {
   "cell_type": "code",
   "execution_count": null,
   "metadata": {},
   "outputs": [],
   "source": [
    "%nbdev_export\n",
    "\n",
    "from itertools import accumulate\n",
    "\n",
    "def CreateConditions(p,avec,bvec,indexgenerator=CreateLyndonIndices):\n",
    "    \"\"\"This creates the set of equations using by default the Lyndon Basis elements.\n",
    "    \n",
    "    Parameters\n",
    "    ----------\n",
    "    p : the considered order\n",
    "    avec: The set of symbols to use for the first operator.\n",
    "    bvec: The set of symbols to use for the second operator.\n",
    "    indexgenerator: (optional) by default we use indexgenerator for the Lyndon indices. Using CreateMuVectors\n",
    "                     the indices from the overcomplete Hall-Basis can be used.\n",
    "    \n",
    "    Returns\n",
    "    -------\n",
    "    array : An array of Equations that have to be satisfied to fulfill the requested order p.\n",
    "    \"\"\"\n",
    "    cvec=[*accumulate(avec)]\n",
    "    cvec[-1]=1\n",
    "    retval = [Eq(sum(avec),1)]\n",
    "    for k in range(1,p+1):\n",
    "        vecs=indexgenerator(p,k)\n",
    "        for mu in vecs:\n",
    "            retval.append(Eq(CreateEquation(mu,bvec,cvec),0))\n",
    "    return retval"
   ]
  },
  {
   "cell_type": "markdown",
   "metadata": {},
   "source": [
    "Having all the functions available we can compare the reductions due to the Lyndon indices in comparison to the Hall Basis."
   ]
  },
  {
   "cell_type": "code",
   "execution_count": null,
   "metadata": {},
   "outputs": [
    {
     "name": "stdout",
     "output_type": "stream",
     "text": [
      "Equations in the Lyndon Basis\n",
      "[Eq(a_0 + a_1 + a_2, 1), Eq(-b_0 - b_1 - b_2 + 1, 0), Eq(-a_0*b_0 - b_1*(a_0 + a_1) - b_2 + 1/2, 0), Eq(-a_0**2*b_0 - b_1*(a_0 + a_1)**2 - b_2 + 1/3, 0), Eq(-a_0*b_0**2/2 - a_0*b_0*b_1 - a_0*b_0*b_2 - b_1**2*(a_0 + a_1)/2 - b_1*b_2*(a_0 + a_1) - b_2**2/2 + 1/6, 0)]\n",
      "=========================\n",
      "Equations in the Hall Basis\n",
      "[Eq(a_0 + a_1 + a_2, 1), Eq(-b_0 - b_1 - b_2 + 1, 0), Eq(-a_0*b_0 - b_1*(a_0 + a_1) - b_2 + 1/2, 0), Eq(-a_0**2*b_0 - b_1*(a_0 + a_1)**2 - b_2 + 1/3, 0), Eq(-b_0**2/2 - b_0*b_1 - b_0*b_2 - b_1**2/2 - b_1*b_2 - b_2**2/2 + 1/2, 0), Eq(-a_0*b_0**2/2 - a_0*b_0*b_1 - a_0*b_0*b_2 - b_1**2*(a_0 + a_1)/2 - b_1*b_2*(a_0 + a_1) - b_2**2/2 + 1/6, 0), Eq(-a_0*b_0**2/2 - b_0*b_1*(a_0 + a_1) - b_0*b_2 - b_1**2*(a_0 + a_1)/2 - b_1*b_2 - b_2**2/2 + 1/3, 0), Eq(-b_0**3/6 - b_0**2*b_1/2 - b_0**2*b_2/2 - b_0*b_1**2/2 - b_0*b_1*b_2 - b_0*b_2**2/2 - b_1**3/6 - b_1**2*b_2/2 - b_1*b_2**2/2 - b_2**3/6 + 1/6, 0)]\n"
     ]
    }
   ],
   "source": [
    "avec=[*symarray('a',3)]\n",
    "bvec=[*symarray('b',3)]\n",
    "print(\"Equations in the Lyndon Basis\")\n",
    "print(CreateConditions(3,avec,bvec))\n",
    "print(\"=========================\")\n",
    "print(\"Equations in the Hall Basis\")\n",
    "print(CreateConditions(3,avec,bvec,CreateMuVectors))"
   ]
  }
 ],
 "metadata": {
  "kernelspec": {
   "display_name": "Python 3",
   "language": "python",
   "name": "python3"
  }
 },
 "nbformat": 4,
 "nbformat_minor": 2
}
